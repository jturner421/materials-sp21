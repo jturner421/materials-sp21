{
 "cells": [
  {
   "cell_type": "markdown",
   "metadata": {
    "#solution": false,
    "#staff": false,
    "#student": false
   },
   "source": [
    "<table align=\"left\" style=\"border-style: hidden\" class=\"table\"> <tr> <td class=\"col-md-2\"><img style=\"float\" src=\"http://prob140.org/assets/icon_sp21.png\" alt=\"Prob140 Logo\" style=\"width: 120px;\"/></td><td><div align=\"left\"><h3 style=\"margin-top: 0;\">Probability for Data Science</h3><h4 style=\"margin-top: 20px;\">UC Berkeley, Spring 2021</h4><p>Lab created by Ani Adhikari</p>CC BY-NC-SA 4.0</div></td></tr></table>\n",
    "\n",
    "This content is protected and may not be shared, uploaded, or distributed."
   ]
  },
  {
   "cell_type": "markdown",
   "metadata": {
    "#solution": false,
    "#staff": false,
    "#student": false
   },
   "source": [
    "# Lab 1: Birthday Attack #\n",
    "Welcome to lab in Data 140! In this first lab you will get acquainted with the computing environment of the course and explore an application of the birthday problem. Specifically, you will:\n",
    "\n",
    "- Review the code used in the textbook to study the birthday problem on Planet Earth\n",
    "- Study the \"birthday paradox\" on Mars (or, if you have a more practical outlook, in hashing collisions), with an exact computation as well as an approximation\n",
    "- See how the title of this lab is actually a thing, not just a cutesy way of getting your attention\n",
    "- Examine the joint distribution of the times till the first and second collisions\n",
    "\n",
    "### Note ###\n",
    "\n",
    "Similar to homework, labs have two components: a written portion and a portion that also involves code. Written work should be completed on paper, and coding questions should be done in the notebook. You are welcome to LaTeX your answers to the written portions, but staff will not be able to assist you with LaTeX related issues. It is your responsibility to ensure that both components of the homework are submitted completely and properly to Gradescope. **Refer to the end of the notebook for submission instructions.**\n",
    "\n",
    "First run the Setup cell below. You can ignore its contents for now if you aren't interested. In future labs, this cell will appear before the start of the lab."
   ]
  },
  {
   "cell_type": "code",
   "execution_count": null,
   "metadata": {
    "#solution": false,
    "#staff": false,
    "#student": false
   },
   "outputs": [],
   "source": [
    "# SETUP\n",
    "\n",
    "# These lines make warnings go away\n",
    "import warnings\n",
    "warnings.filterwarnings('ignore')\n",
    "\n",
    "# The main libraries\n",
    "import numpy as np\n",
    "from datascience import *\n",
    "from prob140 import *\n",
    "\n",
    "# These lines do some fancy plotting magic\n",
    "import matplotlib\n",
    "%matplotlib inline\n",
    "import matplotlib.pyplot as plt\n",
    "plt.style.use('fivethirtyeight')\n"
   ]
  },
  {
   "cell_type": "markdown",
   "metadata": {
    "#solution": false,
    "#staff": false,
    "#student": false
   },
   "source": [
    "### Useful Methods ###\n",
    "Because you have only recently returned to school after the break, we are providing a list of some methods that will be useful in the lab. Please consult the one-page [**code reference sheet**](http://prob140.org/assets/final_reference_code_fa18.pdf) in [Resources](http://prob140.org/references/) if you need a reminder of the syntax.\n",
    "\n",
    "For today's lab you will need some or all of:\n",
    "- Array operations and NumPy functions including `item`, `diff`, and `append`\n",
    "- Defining functions: `def`\n",
    "- Conditional statements: `if`/`else`\n",
    "- Iteration: `for` (or any other Python method for iteration)\n",
    "- `Table` methods from the `datascience` library:\n",
    "    - Creation: `with_columns`\n",
    "    - Accessing rows that satisfy a condition: `where`\n",
    "    - Accessing and using values as inputs to a function: `apply`\n",
    "    - Scatter plots: `scatter`\n",
    "- Distribution methods from the `prob140` library, operating on `Table()`:\n",
    "    - Specifying the possible values: `values`\n",
    "    - Specifying the probabilities: `probabilities` or `probability_function`\n",
    "    - Marginal distribution (operating on a joint distribution object): `marginal_dist`\n",
    "- Visualization methods from the `prob140` library:\n",
    "    - Probability histogram of an integer-valued random variable: `Plot`\n",
    "    - Overlaid probability histograms of two integer-valued random variables: `Plots`"
   ]
  },
  {
   "cell_type": "markdown",
   "metadata": {
    "#solution": false,
    "#staff": false,
    "#student": false
   },
   "source": [
    "## Part 1: Birthday Paradox on Earth ##\n",
    "In this part you will review the code used in the textbook to study the birthday problem on Planet Earth.\n",
    "\n",
    "[As you have seen](http://prob140.org/textbook/content/Chapter_01/04_Birthday_Problem.html#The-Birthday-Problem), the setting of the birthday problem is a special case of $n$ draws made at random with replacement from the set of integers $1, 2, 3, \\ldots, N$. \n",
    "\n",
    "In the context of birthdays on Earth, this corresponds to two simplifying assumptions about $n$ people:\n",
    "- Each year has 365 days; $N = 365$\n",
    "- Each person is equally likely to be born on each of the 365 days, regardless of the birthdays of all others\n",
    "\n",
    "The main question is, \"What is the chance that among the $n$ people there is at least one pair whose birthdays are the same?\" \n",
    "\n",
    "In the context of hashing, the question is, \"If you assign each of $n$ individuals one of $N$ hash values chosen at random, what is the chance of at least one collision?\" \n",
    "\n",
    "Start out by setting $N = 365$. Run the cell or it won't get set. After this, we won't keep reminding you to run cells."
   ]
  },
  {
   "cell_type": "code",
   "execution_count": null,
   "metadata": {
    "#solution": false,
    "#staff": false,
    "#student": false
   },
   "outputs": [],
   "source": [
    "N = 365"
   ]
  },
  {
   "cell_type": "markdown",
   "metadata": {
    "#solution": false,
    "#staff": false,
    "#student": false
   },
   "source": [
    "### 1a) ###\n",
    "Let $D_n$ be the event that all $n$ birthdays are different, that is, the event that there is no match. You have seen that\n",
    "$$\n",
    "P(D_n) ~ = ~ \\prod_{i=0}^{n-1} \\frac{365 - i}{365}\n",
    "$$\n",
    "\n",
    "Notice that $P(D_1) = 1$. There is certain to be no match if there is only one birthday, because there is nothing it can be matched with.\n",
    "\n",
    "Notice also that the computation labels the $n$ people as $0, 1, 2, \\ldots, n-1$, which makes Python's 0-origin indexing rather convenient. \n",
    "\n",
    "Let's brush off any cobwebs that might have gathered on your programming skills over the holidays. Run the cells below and observe the output carefully."
   ]
  },
  {
   "cell_type": "code",
   "execution_count": null,
   "metadata": {
    "#solution": false,
    "#staff": false,
    "#student": false
   },
   "outputs": [],
   "source": [
    "n = 5\n",
    "individuals = np.arange(n)\n",
    "individuals"
   ]
  },
  {
   "cell_type": "code",
   "execution_count": null,
   "metadata": {
    "#solution": false,
    "#staff": false,
    "#student": false
   },
   "outputs": [],
   "source": [
    "N - individuals"
   ]
  },
  {
   "cell_type": "code",
   "execution_count": null,
   "metadata": {
    "#solution": false,
    "#staff": false,
    "#student": false
   },
   "outputs": [],
   "source": [
    "(N - individuals)/N"
   ]
  },
  {
   "cell_type": "code",
   "execution_count": null,
   "metadata": {
    "#solution": false,
    "#staff": false,
    "#student": false
   },
   "outputs": [],
   "source": [
    "np.prod( (N - individuals)/N )"
   ]
  },
  {
   "cell_type": "markdown",
   "metadata": {
    "#solution": false,
    "#staff": false,
    "#student": false
   },
   "source": [
    "### 1b) ###\n",
    "Use the sequence of steps in 1a to define a function `p_no_match` that takes $n$ as its argument and returns $P(D_n)$, assuming the fixed value $N = 365$."
   ]
  },
  {
   "cell_type": "code",
   "execution_count": null,
   "metadata": {
    "#solution": false,
    "#staff": false,
    "#student": true
   },
   "outputs": [],
   "source": [
    "def p_no_match(n):\n",
    "    ...\n",
    "    return ..."
   ]
  },
  {
   "cell_type": "markdown",
   "metadata": {
    "#solution": false,
    "#staff": false,
    "#student": false
   },
   "source": [
    "### 1c) ###\n",
    "Based on what you saw in class about the birthdays of 23 people, $P(D_{23})$ should be\n",
    "\n",
    "(i) a bit less than 1/2 $~~~~~~~~~~$ (ii) 1/2 $~~~~~~~~~~$ (iii) a bit more than 1/2\n",
    "\n",
    "Pick the right option and explain without computation."
   ]
  },
  {
   "cell_type": "markdown",
   "metadata": {
    "#solution": false,
    "#staff": false,
    "#student": true
   },
   "source": [
    "\n",
    "**Type your answer in this cell.**"
   ]
  },
  {
   "cell_type": "markdown",
   "metadata": {
    "#solution": false,
    "#staff": false,
    "#student": false
   },
   "source": [
    "Confirm your answer in the cell below."
   ]
  },
  {
   "cell_type": "code",
   "execution_count": null,
   "metadata": {
    "#solution": false,
    "#staff": false,
    "#student": true
   },
   "outputs": [],
   "source": [
    "p_no_match(...)"
   ]
  },
  {
   "cell_type": "markdown",
   "metadata": {
    "#solution": false,
    "#staff": false,
    "#student": false
   },
   "source": [
    "### 1d) ###\n",
    "\n",
    "The birthday problem is only interesting for $1 \\le n \\le N$, because for larger $n$ it's clear that $P(D_n)$ must be 0. Use a table to display your value of $P(D_n)$ for every $n$ in the range 1 through $N$, in the following steps.\n",
    "\n",
    "The next cell sets up a table of all the possible numbers of people."
   ]
  },
  {
   "cell_type": "code",
   "execution_count": null,
   "metadata": {
    "#solution": false,
    "#staff": false,
    "#student": false
   },
   "outputs": [],
   "source": [
    "birthday_probs = Table().with_columns('People', np.arange(1, N+1))\n",
    "birthday_probs"
   ]
  },
  {
   "cell_type": "markdown",
   "metadata": {
    "#solution": false,
    "#staff": false,
    "#student": false
   },
   "source": [
    "Create an array called `all_different` that contains $P(D_n)$ for each $n$ in the range 1 through $N$.\n",
    "\n",
    "You will need the Table method ``apply`` that applies a function to a specified column in each row of a table."
   ]
  },
  {
   "cell_type": "code",
   "execution_count": null,
   "metadata": {
    "#solution": false,
    "#staff": false,
    "#student": true
   },
   "outputs": [],
   "source": [
    "all_different = birthday_probs.apply(...)"
   ]
  },
  {
   "cell_type": "markdown",
   "metadata": {
    "#solution": false,
    "#staff": false,
    "#student": false
   },
   "source": [
    "Which item of `all_different` corresponds to 23 people? That item of `all_different` should agree with 1c; check this!"
   ]
  },
  {
   "cell_type": "code",
   "execution_count": null,
   "metadata": {
    "#solution": false,
    "#staff": false,
    "#student": true
   },
   "outputs": [],
   "source": [
    "all_different.item(...)"
   ]
  },
  {
   "cell_type": "markdown",
   "metadata": {
    "#solution": false,
    "#staff": false,
    "#student": false
   },
   "source": [
    "Augment `birthday_probs` with two columns \n",
    "- one labeled ``P(no match)``; in the row corresponding to $n$ people, the column should contain $P(D_n)$\n",
    "- one labeled ``P(at least one match)``; in the row corresponding to $n$ people, the column should contain $P(\\mbox{at least one match among the } n \\mbox{ birthdays})$ "
   ]
  },
  {
   "cell_type": "code",
   "execution_count": null,
   "metadata": {
    "#solution": false,
    "#staff": false,
    "#student": true
   },
   "outputs": [],
   "source": [
    "birthday_probs = birthday_probs.with_columns(\n",
    "    ...\n",
    ")\n",
    "\n",
    "birthday_probs"
   ]
  },
  {
   "cell_type": "markdown",
   "metadata": {
    "#solution": false,
    "#staff": false,
    "#student": false
   },
   "source": [
    "Compare with the `results` table in [Section 1.4](http://prob140.org/textbook/content/Chapter_01/04_Birthday_Problem.html) of the Data 140 textbook. It should be the same apart from column labels. "
   ]
  },
  {
   "cell_type": "markdown",
   "metadata": {
    "#solution": false,
    "#staff": false,
    "#student": false
   },
   "source": [
    "### 1e) ###\n",
    "Now visualize the \"birthday paradox\". Draw the scatter plot of `P(at least one match)` versus `People`. \n",
    "\n",
    "In the cell below, we have restricted the values of `People` to just the range where there is visible change in the probability being plotted. And we have drawn a horizontal line at the level 1/2. The code for the graphics is briefly explained in the comments. The final semi-colon prevents some unnecessary text output from `matplotlib`."
   ]
  },
  {
   "cell_type": "code",
   "execution_count": null,
   "metadata": {
    "#solution": false,
    "#staff": false,
    "#student": true
   },
   "outputs": [],
   "source": [
    "...\n",
    "\n",
    "# Everything below this line is for fine-tuning the graphics.\n",
    "# There is nothing for you to enter below this line.\n",
    "\n",
    "# plt is short for matplotlib.pyplot; see the import cell at the top\n",
    "\n",
    "plt.xlim(0, 70)     # restrict trials to at most 70\n",
    "\n",
    "plt.ylim(0, 1)      # use the probability scale on the vertical axis\n",
    "\n",
    "# Draw a red horizontal line at level 1/2\n",
    "# plt.plot joins the dots between the two points (x_1, y_1) and (x_2, y_2)\n",
    "# Arguments: [x_1, x_2], [y_1, y_2], color=, and lw=\n",
    "# That last one is line width. Bigger values produce thicker lines.\n",
    "\n",
    "plt.plot([0, 70], [0.5, 0.5], color='red', lw=1);"
   ]
  },
  {
   "cell_type": "markdown",
   "metadata": {
    "#solution": false,
    "#staff": false,
    "#student": false
   },
   "source": [
    "Use the graph to indentify the smallest number of people at which $P(\\mbox{at least one match})$ exceeds 1/2."
   ]
  },
  {
   "cell_type": "markdown",
   "metadata": {
    "#solution": false,
    "#staff": false,
    "#student": true
   },
   "source": [
    "\n",
    "** Type your answer in this cell.**"
   ]
  },
  {
   "cell_type": "markdown",
   "metadata": {
    "#solution": false,
    "#staff": false,
    "#student": false
   },
   "source": [
    "## Part 2: Birthday Paradox (Martian Edition) ##\n",
    "Now suppose you're a Martian. Then one year on your planet is 687 days long. Or in general, suppose you're from a planet whose year has $N$ days. The goal of this part is to answer the following question:\n",
    "\n",
    "For a year of length $N$, what is the smallest number of individuals so that the chance of a match among those individuals is at least half?\n",
    "\n",
    "In terms of a hash table with $N$ values, you are trying to find the smallest number of individuals so that a collision is more likely than not. \n",
    "\n",
    "We'll call this number the *tipping point* corresponding to a hash table with $N$ values.\n",
    "\n",
    "In this part you will write a function to find the tipping point as a function of $N$. To gain some efficiency in the code, the steps below avoid Table methods; those work better for display, visualization, and so on."
   ]
  },
  {
   "cell_type": "markdown",
   "metadata": {
    "#solution": false,
    "#staff": false,
    "#student": false
   },
   "source": [
    "### 2a) [On Paper]###\n",
    "Based on the tipping point for the Earth year ($23$, with $N = 365$), you should have the sense that the tipping point is going to be small relative to $N$. Here are a couple of observations that will help you write your function.\n",
    "\n",
    "First review the formula for $P(D_n)$ in Part **1a**. This is the probability of no match among $n$ people.\n",
    "\n",
    "Fill in the blank with the correct factor:\n",
    "\n",
    "For $2 \\le n \\le N$,\n",
    "$$\n",
    "P(D_n) ~ = ~ P(D_{n-1}) \\cdot \\underline{ ~~~~~~~~~~~~~~~~ }\n",
    "$$\n",
    "\n",
    "If you have trouble, start with $N = 365$ and refer to **1a**. What will happen if you replace $n$ by $n-1$?"
   ]
  },
  {
   "cell_type": "markdown",
   "metadata": {
    "#solution": false,
    "#staff": false,
    "#student": false
   },
   "source": [
    "In what follows, keep in mind that:\n",
    "\n",
    "- $P(D_1) = 1$\n",
    "- The smallest $n$ for which $P(\\mbox{at least one match among } n \\mbox{ birthdays}) > 1/2$ is also the smallest $n$ for which $P(D_n) < 1/2$."
   ]
  },
  {
   "cell_type": "markdown",
   "metadata": {
    "#solution": false,
    "#staff": false,
    "#student": false
   },
   "source": [
    "### 2b) ###\n",
    "Use 2a to define a function called `tipping_point` that takes $N$ as its argument and returns the tipping point when there are $N$ days in the year.\n",
    "\n",
    "Do **not** compute $P(D_n)$ for all $n$. The vast majority of that computation will be unnecessary. Rather, set up your computation in the steps indicated by 2a:\n",
    "\n",
    "- Start with one individual and probability 1 of no match.\n",
    "- As long as the probability is greater than 1/2, keep increasing the number of individuals by 1 and updating the probability of no match by the product formula you came up with in 2a.\n",
    "- Once the probability is less than 1/2, return (carefully!) the number of individuals corresponding to the tipping point.\n",
    "\n",
    "There are numerous ways to write this function. Use any efficient way; this implies avoiding Table here."
   ]
  },
  {
   "cell_type": "code",
   "execution_count": null,
   "metadata": {
    "#solution": false,
    "#staff": false,
    "#student": true
   },
   "outputs": [],
   "source": [
    "def tipping_point(N):\n",
    "    ...\n",
    "    return ..."
   ]
  },
  {
   "cell_type": "markdown",
   "metadata": {
    "#solution": false,
    "#staff": false,
    "#student": false
   },
   "source": [
    "Run the cell below as a check of whether your function is working correctly."
   ]
  },
  {
   "cell_type": "code",
   "execution_count": null,
   "metadata": {
    "#solution": false,
    "#staff": false,
    "#student": false
   },
   "outputs": [],
   "source": [
    "tipping_point(365)"
   ]
  },
  {
   "cell_type": "markdown",
   "metadata": {
    "#solution": false,
    "#staff": false,
    "#student": false
   },
   "source": [
    "### 2c) ###\n",
    "What's the tipping point on Mars?"
   ]
  },
  {
   "cell_type": "code",
   "execution_count": null,
   "metadata": {
    "#solution": false,
    "#staff": false,
    "#student": true
   },
   "outputs": [],
   "source": [
    "..."
   ]
  },
  {
   "cell_type": "markdown",
   "metadata": {
    "#solution": false,
    "#staff": false,
    "#student": false
   },
   "source": [
    "### 2d) ###\n",
    "If you use a 16-bit hash, there are $2^{16} = 65536$ hash values. What is the tipping point for a 16-bit hash?"
   ]
  },
  {
   "cell_type": "code",
   "execution_count": null,
   "metadata": {
    "#solution": false,
    "#staff": false,
    "#student": true
   },
   "outputs": [],
   "source": [
    "..."
   ]
  },
  {
   "cell_type": "markdown",
   "metadata": {
    "#solution": false,
    "#staff": false,
    "#student": false
   },
   "source": [
    "**Optional:** If you use a 32-bit hash there are $2^{32} \\approx 4.3 \\times 10^9$ hash values. If you wrote your function reasonably efficiently, it should give you the tipping point for a 32-bit hash after some chugging, without crashing your system. But please only try it after letting course staff look at your code for `tipping_point`. It's not a required element of the lab."
   ]
  },
  {
   "cell_type": "code",
   "execution_count": null,
   "metadata": {
    "#solution": false,
    "#staff": false,
    "#student": true
   },
   "outputs": [],
   "source": [
    "# OPTIONAL\n",
    "..."
   ]
  },
  {
   "cell_type": "markdown",
   "metadata": {
    "#solution": false,
    "#staff": false,
    "#student": false
   },
   "source": [
    "## Part 3: The Attack ##\n",
    "\n",
    "Hash functions play a major role in cryptography and computer security. For example, servers verify passwords by comparing the hash value of an entered string with the hash value stored in a database. *Birthday attacks* take advantage of the birthday paradox to generate hash collisions and trick computers into accepting a malicious file in place of a previously-encountered safe file. \n",
    "\n",
    "The key idea behind birthday attacks is what you have observed in this lab: by making a relatively small number (the tipping point!) of random attempts, the attacker has more than an even chance of matching a hash value that has been assigned. \n",
    "\n",
    "Note that the attackers don't aim to collide with a *specific* hash value—they just try for a collision with any assigned value. In other words, the goal is to get any match, just as in the birthday problem. "
   ]
  },
  {
   "cell_type": "markdown",
   "metadata": {
    "#solution": false,
    "#staff": false,
    "#student": false
   },
   "source": [
    "### 3a) ###\n",
    "\n",
    "If you use a 64-bit hash there are approximately $1.8 \\times 10^{19}$ hash values. It might be cruel to ask a computer to crank out your `tipping_point` value for such a large $N$.\n",
    "\n",
    "But you know an exponential approximation to the chance of no match, which you can now use to approximate the tipping point.\n",
    "\n",
    "Review the approximation in Step 4 of [Section 1.5](http://prob140.org/textbook/content/Chapter_01/05_An_Exponential_Approximation.html#step-4-invert-as-needed-to-complete-the-approximation) of the Data 140 textbook. You should review the math that went into the approximation, but for this lab it is enough just to know the final answer:\n",
    "\n",
    "For large $n$, \n",
    "$$\n",
    "P(D_n) ~ \\approx ~ e^{-\\frac{1}{2N}n^2}\n",
    "$$\n",
    "\n",
    "To get a rough approximation of the tipping point, set $P(D_n)$ to $1/2$ in the approximation above and solve for $n$ in terms of $N$. Do this on scratch paper. Then write a function called `approx_tipping_point` that takes $N$ as its argument and returns the approximate tipping point.\n",
    "\n",
    "Use `np.log(x)` for $\\log(x)$ and the ceiling function `np.ceil(x)` for the smallest integer greater than or equal to $x$."
   ]
  },
  {
   "cell_type": "code",
   "execution_count": null,
   "metadata": {
    "#solution": false,
    "#staff": false,
    "#student": true
   },
   "outputs": [],
   "source": [
    "def approx_tipping_point(N):\n",
    "    return ..."
   ]
  },
  {
   "cell_type": "markdown",
   "metadata": {
    "#solution": false,
    "#staff": false,
    "#student": false
   },
   "source": [
    "### 3b) ###\n",
    "Run the cell below and compare with the exact answers you got in Part 2. Keep in mind that all the calculations might be affected by floating point accuracy issues."
   ]
  },
  {
   "cell_type": "code",
   "execution_count": null,
   "metadata": {
    "#solution": false,
    "#staff": false,
    "#student": false
   },
   "outputs": [],
   "source": [
    "approx_tipping_point(365), approx_tipping_point(687), approx_tipping_point(2**16)"
   ]
  },
  {
   "cell_type": "markdown",
   "metadata": {
    "#solution": false,
    "#staff": false,
    "#student": false
   },
   "source": [
    "### 3c) ###\n",
    "What's the approximate tipping point for a 128-bit hash?"
   ]
  },
  {
   "cell_type": "code",
   "execution_count": null,
   "metadata": {
    "#solution": false,
    "#staff": false,
    "#student": true
   },
   "outputs": [],
   "source": [
    "..."
   ]
  },
  {
   "cell_type": "markdown",
   "metadata": {
    "#solution": false,
    "#staff": false,
    "#student": false
   },
   "source": [
    "### 3d) ###\n",
    "Take a look at the [Wikipedia page on birthday attacks](https://en.wikipedia.org/wiki/Birthday_attack). Scroll down to the table in the middle of the article. \n",
    "\n",
    "The notation $H$ in the second column is what we are calling $N$. \n",
    "\n",
    "We have been looking for an essentially 50% chance of getting a match, so you can just focus on the 50% column under Desired Probability of a Random Collision. \n",
    "\n",
    "Are your approximations in **3b** consistent with the entries in this column?"
   ]
  },
  {
   "cell_type": "markdown",
   "metadata": {
    "#solution": false,
    "#staff": false,
    "#student": true
   },
   "source": [
    "\n",
    "** Type your answer here. It should be short!**"
   ]
  },
  {
   "cell_type": "markdown",
   "metadata": {
    "#solution": false,
    "#staff": false,
    "#student": false
   },
   "source": [
    "#### Further Reading on the Birthday Attack #### \n",
    "To test whether their cryptographic hash functions are safe from attack, tech companies have to try to break them. Just last year, security researchers at Google generated a hash collision using SHA-1, a widely used hashing algorithm that generates 160-bit hash values. If you are interested in learning more, take a look at Google's technical report:\n",
    "https://security.googleblog.com/2017/02/announcing-first-sha1-collision.html. Their recommendation after generating the collision: \"For the tech community, our findings emphasize the necessity of sunsetting SHA-1 usage.\""
   ]
  },
  {
   "cell_type": "markdown",
   "metadata": {
    "#solution": false,
    "#staff": false,
    "#student": false
   },
   "source": [
    "# Part A of the lab ends here, and is due by 11:59 pm Monday August 31 #"
   ]
  },
  {
   "cell_type": "markdown",
   "metadata": {
    "#solution": false,
    "#staff": false,
    "#student": false
   },
   "source": [
    "## Part 4: The Time Required for a Collision ##\n",
    "\n",
    "Suppose you start out with $N$ hash values and assign them to individuals one by one at random with replacement as we have assumed throughout.\n",
    "\n",
    "Let $M_1$ be the number of individuals who are assigned hash values until the first time the value assigned has been assigned before. For example, if the sequence of assigned values starts out as 212, 41, 7, 90, 41, then $M_1 = 5$.\n",
    "\n",
    "**Important Note**: In this course \"until\" will mean \"up to and including\" as you can see in the example above.\n",
    "\n",
    "The random variable $M_1$ is called *the time of the first match*. In this part of the lab you will find its probability distribution."
   ]
  },
  {
   "cell_type": "markdown",
   "metadata": {
    "#solution": false,
    "#staff": false,
    "#student": false
   },
   "source": [
    "### 4a) ###\n",
    "\n",
    "When you are trying to identify a distribution, **always** start with the possible values. In terms of $N$, what are the possible values of $M_1$?"
   ]
  },
  {
   "cell_type": "markdown",
   "metadata": {
    "#solution": false,
    "#staff": false,
    "#student": true
   },
   "source": [
    "\n",
    "Type your answer here."
   ]
  },
  {
   "cell_type": "markdown",
   "metadata": {
    "#solution": false,
    "#staff": false,
    "#student": false
   },
   "source": [
    "### 4b) [On Paper] ###\n",
    "\n",
    "Suppose there are $n$ individuals in all. As in Part **1a** let $D_n$ be the event that all $n$ individuals are assigned different values. In Part 1 you have the algebraic formula for $P(D_n)$ as well as numerical values when the total number of hash values is $N = 365$.\n",
    "\n",
    "Fill in the blank with one of the symbols $=$, $>$, $\\ge$, $<$, $\\le$, and **explain your logic**.\n",
    "\n",
    "For $n > 1$, the event $D_n$ is the same as the event $\\{M_1 ~ \\underline{~~~~~~~~~} ~ n\\}$."
   ]
  },
  {
   "cell_type": "markdown",
   "metadata": {
    "#solution": false,
    "#staff": false,
    "#student": false
   },
   "source": [
    "### 4c) [On Paper] ###\n",
    "\n",
    "For $n \\ge 1$ define the event $G_n = \\{M_1 > n \\}$.\n",
    "\n",
    "Fill in the blanks. \n",
    "- The first blank should be filled in with set operations (such as union, intersection, difference, complement, etc) performed on some or all of the events $G_1, G_2, \\ldots $.\n",
    "- The second blank should be filled in with arithmetic operations performed on some or all of $P(G_1), P(G_2), \\ldots$.\n",
    "\n",
    "For a possible value $n$ in the range identified in Part **a** above, the event $\\{M_1 = n\\}$ is the same as the event $\\underline{~~~~~~~~~~~~~~~~~~~~~~~~~~~~}$, and hence $P(M_1 = n) = \\underline{~~~~~~~~~~~~~~~~~~~~~~~~~~~~~~~~~~~~~~~~~~~~~~~~~~}$.\n",
    "\n",
    "**Be sure to show** that your answer is correct for the values of $n$ that are at the edges of your answer to Part **a**."
   ]
  },
  {
   "cell_type": "markdown",
   "metadata": {
    "#solution": false,
    "#staff": false,
    "#student": false
   },
   "source": [
    "### 4d) ###\n",
    "\n",
    "Complete the cell below to find probability distribution of $M_1$ numerically in the case $N = 365$. \n",
    "\n",
    "- The array `possible_vals_M1` should contain the possible values of $M_1$ found in Part **a** above.\n",
    "\n",
    "- The probabilities of those values should be placed in the array `matching_time_probs`, calculated using:\n",
    "    - Your work in Parts **a-c** above\n",
    "    - The array `all_different` from **Part 1**\n",
    "    - NumPy functions; consult the list provided at the start of the lab\n",
    "    \n",
    "Be careful with `matching_time_probs`. Keep track of signs and lengths, and check that the first and last values are correct."
   ]
  },
  {
   "cell_type": "code",
   "execution_count": null,
   "metadata": {
    "#solution": false,
    "#staff": false,
    "#student": true
   },
   "outputs": [],
   "source": [
    "N = 365\n",
    "\n",
    "\"\"\" Distribution of M_1 \"\"\"\n",
    "\n",
    "# Array of possible values, in terms of N\n",
    "possible_vals_M1 = np.arange(...)\n",
    "\n",
    "# Carefully ... An array of the corresponding probabilities, in terms of N and the array all_different\n",
    "matching_time_probs = ..."
   ]
  },
  {
   "cell_type": "markdown",
   "metadata": {
    "#solution": false,
    "#staff": false,
    "#student": false
   },
   "source": [
    "Run the cell below for a ball-park check of whether your calculations are correct. The two lengths should match, and you know what the sum should be."
   ]
  },
  {
   "cell_type": "code",
   "execution_count": null,
   "metadata": {
    "#solution": false,
    "#staff": false,
    "#student": false
   },
   "outputs": [],
   "source": [
    "len(possible_vals_M1), len(matching_time_probs), sum(matching_time_probs)"
   ]
  },
  {
   "cell_type": "markdown",
   "metadata": {
    "#solution": false,
    "#staff": false,
    "#student": false
   },
   "source": [
    "Complete the cell below to construct the distribution object `dist_M1` so that `Plot(dist_M1)` displays the probability histogram of $M_1$. Consult [the textbook](http://prob140.org/textbook/content/Chapter_03/02_Distributions.html#visualizing-the-distribution) for the syntax."
   ]
  },
  {
   "cell_type": "code",
   "execution_count": null,
   "metadata": {
    "#solution": false,
    "#staff": false,
    "#student": true
   },
   "outputs": [],
   "source": [
    "dist_M1 = Table()...\n",
    "\n",
    "Plot(dist_M1)\n",
    "\n",
    "# labels\n",
    "plt.xlabel('$M_1$')\n",
    "plt.title('Distribution of $M_1$');"
   ]
  },
  {
   "cell_type": "markdown",
   "metadata": {
    "#solution": false,
    "#staff": false,
    "#student": false
   },
   "source": [
    "If you have calculated the distribution correctly, the histogram should be bunched up on the left. For the other values, the chances are so small that the bars are invisible.\n",
    "\n",
    "Run the cell below to zoom in on the main action. "
   ]
  },
  {
   "cell_type": "code",
   "execution_count": null,
   "metadata": {
    "#solution": false,
    "#staff": false,
    "#student": false
   },
   "outputs": [],
   "source": [
    "truncated_dist_M1 = dist_M1.take(np.arange(100))\n",
    "\n",
    "Plot(truncated_dist_M1)\n",
    "\n",
    "plt.xlabel('$M_1$')\n",
    "plt.title('Distribution of $M_1$');"
   ]
  },
  {
   "cell_type": "markdown",
   "metadata": {
    "#solution": false,
    "#staff": false,
    "#student": false
   },
   "source": [
    "Remember this shape. You'll see a continuous version of it later in the course when we study the [Rayleigh distribution](http://prob140.org/textbook/content/Chapter_16/02_Monotone_Functions.html#applying-the-formula). Scroll down till you see a graph with a familiar shape."
   ]
  },
  {
   "cell_type": "markdown",
   "metadata": {
    "#solution": false,
    "#staff": false,
    "#student": false
   },
   "source": [
    "### 4e) ###\n",
    "\n",
    "The *median* of $M_1$ is the smallest value of n such that $P(M_1 \\le n) \\ge 0.5$. \n",
    "\n",
    "Without calculation, complete the cell below with the numerical value of the median in the case $N=365$, and provide your reasoning in the comment."
   ]
  },
  {
   "cell_type": "code",
   "execution_count": null,
   "metadata": {
    "#solution": false,
    "#staff": false,
    "#student": true
   },
   "outputs": [],
   "source": [
    "\"\"\"\n",
    "Use as many lines of comment as you need to explain your logic fully.\n",
    "\"\"\"\n",
    "\n",
    "median_365 = ...          # This should just be an number; no arithmetic operations please"
   ]
  },
  {
   "cell_type": "markdown",
   "metadata": {
    "#solution": false,
    "#staff": false,
    "#student": false
   },
   "source": [
    "Now run the two cells below to visualize the event $\\{M_1 \\le \\text{median}\\}$ and obtain its probability."
   ]
  },
  {
   "cell_type": "code",
   "execution_count": null,
   "metadata": {
    "#solution": false,
    "#staff": false,
    "#student": false
   },
   "outputs": [],
   "source": [
    "event_4e = np.arange(median_365 + 1)\n",
    "\n",
    "Plot(truncated_dist_M1, event=event_4e)\n",
    "\n",
    "plt.xlabel('$M_1$')\n",
    "plt.title('Event {$M_1 \\leq median$}');"
   ]
  },
  {
   "cell_type": "code",
   "execution_count": null,
   "metadata": {
    "#solution": false,
    "#staff": false,
    "#student": false
   },
   "outputs": [],
   "source": [
    "dist_M1.prob_event(event_4e)"
   ]
  },
  {
   "cell_type": "markdown",
   "metadata": {
    "#solution": false,
    "#staff": false,
    "#student": false
   },
   "source": [
    "## Part 5: The Time of the Second Match ##"
   ]
  },
  {
   "cell_type": "markdown",
   "metadata": {
    "#solution": false,
    "#staff": false,
    "#student": false
   },
   "source": [
    "As before, we are assuming that you start out with $N$ hash values and assign them to individuals one by one at random with replacement.\n",
    "\n",
    "Suppose you just keep doing this regardless of whether or not there are matches. That is, suppose you don't care about collisions.\n",
    "\n",
    "Then the time of the first match will be $M_1$ as in Part 4.\n",
    "\n",
    "Now let $M_2$ be the time of the **second** match. \n",
    "\n",
    "Then $M_2$ is the time of the first match that happens after $M_2$, so that $M_2$ is always strictly greater than $M_1$. \n",
    "\n",
    "For example, if the sequence of assigned values starts out as 212, 41, 7, 90, 41, 330, 117, 7, then $M_1 = 5$ and $M_2 = 8$.\n",
    "\n",
    "In this part of the lab you will find the joint distribution of $M_1$ and $M_2$, and hence the distribution of $M_2$."
   ]
  },
  {
   "cell_type": "markdown",
   "metadata": {
    "#solution": false,
    "#staff": false,
    "#student": false
   },
   "source": [
    "### 5a) ###\n",
    "\n",
    "As always, start with the possible values. In Part **4a** you found the possible values of $M_1$.\n",
    "\n",
    "In terms of the total number of hash values $N$, what are the possible values of $M_2$? Your answer should be a numerical range, not dependent on $M_1$. Provide your reasoning.\n",
    "\n",
    "In the subsequent code cell, create `possible_vals_M2` as an array containing the possible values of $M_2$ in the case $N = 365$."
   ]
  },
  {
   "cell_type": "markdown",
   "metadata": {
    "#solution": false,
    "#staff": false,
    "#student": true
   },
   "source": [
    "\n",
    "Type your answer here."
   ]
  },
  {
   "cell_type": "code",
   "execution_count": null,
   "metadata": {
    "#solution": false,
    "#staff": false,
    "#student": true
   },
   "outputs": [],
   "source": [
    "N = 365 \n",
    "\n",
    "# Array of possible values of M2, in terms of N\n",
    "\n",
    "possible_vals_M2 = ..."
   ]
  },
  {
   "cell_type": "markdown",
   "metadata": {
    "#solution": false,
    "#staff": false,
    "#student": false
   },
   "source": [
    "### 5b) ###\n",
    "\n",
    "**From now on, let $N = 365$.** \n",
    "\n",
    "Complete the cell below to find the numerical values of $P(M_1 = 15)$ and $P(M_1 = 15, M_2 = 20)$. You should use your array `matching_time_probs` from Part **4d** above, and arithmetic operations involving numerical fractions.\n",
    "\n",
    "Remember that the calculation of `matching_time_probs` already assumed $N=365$."
   ]
  },
  {
   "cell_type": "code",
   "execution_count": null,
   "metadata": {
    "#solution": false,
    "#staff": false,
    "#student": true
   },
   "outputs": [],
   "source": [
    "# P(M_1 = 15)\n",
    "\n",
    "p_m1_15 = matching_time_probs.item(...)\n",
    "\n",
    "# P(M_1 = 15, M_2 = 20)\n",
    "\n",
    "p_m1_15_m2_20 = ...\n",
    "\n",
    "p_m1_15, p_m1_15_m2_20"
   ]
  },
  {
   "cell_type": "markdown",
   "metadata": {
    "#solution": false,
    "#staff": false,
    "#student": false
   },
   "source": [
    "### 5c) ###\n",
    "\n",
    "Define a function `joint_probs` that takes $i$ and $j$ as arguments and returns $P(M_1 = i, M_2 = j)$. \n",
    "\n",
    "You should assume that $i$ is a possible value of $M_1$ as identified in Part **4a**, and that $j$ is a possible value of $M_2$ as identified in Part **5a**. Your function definition doesn't need to check that. But it does need to take care of any other constraints on $i$ and $j$.\n",
    "\n",
    "Your definition should generalize the method used in Part **b** above, using the array `matching_time_probs`. Be very careful about ranges."
   ]
  },
  {
   "cell_type": "code",
   "execution_count": null,
   "metadata": {
    "#solution": false,
    "#staff": false,
    "#student": true
   },
   "outputs": [],
   "source": [
    "def joint_probs(i, j):\n",
    "    ...\n",
    "    return ..."
   ]
  },
  {
   "cell_type": "markdown",
   "metadata": {
    "#solution": false,
    "#staff": false,
    "#student": false
   },
   "source": [
    "To check that your function is doing what it should, run the cell below. You know what the first value should be. The second should be the same as in Part **b**. "
   ]
  },
  {
   "cell_type": "code",
   "execution_count": null,
   "metadata": {
    "#solution": false,
    "#staff": false,
    "#student": false
   },
   "outputs": [],
   "source": [
    "joint_probs(20, 15), joint_probs(15, 20)"
   ]
  },
  {
   "cell_type": "markdown",
   "metadata": {
    "#solution": false,
    "#staff": false,
    "#student": false
   },
   "source": [
    "Towards a further check, first pick the right option for the value of $P(M_1 = 2, M_2 = 3)$ from among `a`, `b`, and `c` in the cell below, and then compare it with what your function returns."
   ]
  },
  {
   "cell_type": "code",
   "execution_count": null,
   "metadata": {
    "#solution": false,
    "#staff": false,
    "#student": true
   },
   "outputs": [],
   "source": [
    "a = 1/365\n",
    "b = 1/365**2\n",
    "c = 1/365**3\n",
    "\n",
    "# P(M_1 = 2, M_2 = 3)\n",
    "p_M1_2_M2_3 = ...              # enter one of a, b, c\n",
    "\n",
    "p_M1_2_M2_3, joint_probs(2, 3)"
   ]
  },
  {
   "cell_type": "markdown",
   "metadata": {
    "#solution": false,
    "#staff": false,
    "#student": false
   },
   "source": [
    "### 5d) ###\n",
    "\n",
    "Once you are confident your function is correct, create `jt_M1_M2`, the joint distribution table of $M_1$ and $M_2$ with values of $M_1$ along the columns and $M_2$ along the rows. Consult the [textbook](http://prob140.org/textbook/content/Chapter_04/01_Joint_Distributions.html#Joint-Distribution-Table) for the syntax."
   ]
  },
  {
   "cell_type": "code",
   "execution_count": null,
   "metadata": {
    "#solution": false,
    "#staff": false,
    "#student": true
   },
   "outputs": [],
   "source": [
    "jt_M1_M2 = ...\n",
    "jt_M1_M2"
   ]
  },
  {
   "cell_type": "markdown",
   "metadata": {
    "#solution": false,
    "#staff": false,
    "#student": false
   },
   "source": [
    "That's a huge table; too huge for a full display. To reassure yourself that it's correct, use it to get the distribution of $M_1$ by running the cell below. The histogram should be the same as the first histgram you drew in Part **4d**."
   ]
  },
  {
   "cell_type": "code",
   "execution_count": null,
   "metadata": {
    "#solution": false,
    "#staff": false,
    "#student": false
   },
   "outputs": [],
   "source": [
    "marginal_M1 = jt_M1_M2.marginal_dist('M1')\n",
    "\n",
    "Plot(marginal_M1)\n",
    "\n",
    "plt.xlabel('$M_1$')\n",
    "plt.title('Distribution of $M_1$');"
   ]
  },
  {
   "cell_type": "markdown",
   "metadata": {
    "#solution": false,
    "#staff": false,
    "#student": false
   },
   "source": [
    "### 5e) ###\n",
    "\n",
    "Now look at the distribution of $M_2$, the time of the second match. Complete the code cell below to display the probability histogram of $M_2$."
   ]
  },
  {
   "cell_type": "code",
   "execution_count": null,
   "metadata": {
    "#solution": false,
    "#staff": false,
    "#student": true
   },
   "outputs": [],
   "source": [
    "...        # use as many lines as you need\n",
    "\n",
    "plt.xlabel('$M_2$')\n",
    "plt.title('Distribution of $M_2$');"
   ]
  },
  {
   "cell_type": "markdown",
   "metadata": {
    "#solution": false,
    "#staff": false,
    "#student": false
   },
   "source": [
    "To compare the two distributions more easily, let's zoom in. Remember that we did that for $M_1$ in Part **4d** by truncating the distribution:"
   ]
  },
  {
   "cell_type": "code",
   "execution_count": null,
   "metadata": {
    "#solution": false,
    "#staff": false,
    "#student": false
   },
   "outputs": [],
   "source": [
    "Plot(truncated_dist_M1)\n",
    "\n",
    "plt.xlabel('$M_1$')\n",
    "plt.title('Distribution of $M_1$');"
   ]
  },
  {
   "cell_type": "markdown",
   "metadata": {
    "#solution": false,
    "#staff": false,
    "#student": false
   },
   "source": [
    "Now do the same for $M_2$, by truncating the distribution in the same way as for $M_1$."
   ]
  },
  {
   "cell_type": "code",
   "execution_count": null,
   "metadata": {
    "#solution": false,
    "#staff": false,
    "#student": false
   },
   "outputs": [],
   "source": [
    "marginal_M2 = jt_M1_M2.marginal_dist('M2')\n",
    "marginal_M2"
   ]
  },
  {
   "cell_type": "code",
   "execution_count": null,
   "metadata": {
    "#solution": false,
    "#staff": false,
    "#student": false
   },
   "outputs": [],
   "source": [
    "truncated_dist_M2 = marginal_M2.take(np.arange(100))\n",
    "Plot(truncated_dist_M2)\n",
    "\n",
    "plt.xlabel('$M_2$')\n",
    "plt.title('Distribution of $M_2$');"
   ]
  },
  {
   "cell_type": "markdown",
   "metadata": {
    "#solution": false,
    "#staff": false,
    "#student": false
   },
   "source": [
    "Run the cell below to get overlaid histograms of the two distributions."
   ]
  },
  {
   "cell_type": "code",
   "execution_count": null,
   "metadata": {
    "#solution": false,
    "#staff": false,
    "#student": false
   },
   "outputs": [],
   "source": [
    "Plots('M1', truncated_dist_M1, 'M2', truncated_dist_M2)"
   ]
  },
  {
   "cell_type": "markdown",
   "metadata": {
    "#solution": false,
    "#staff": false,
    "#student": false
   },
   "source": [
    "Describe the similarities and differences that you see, and try to explain as many of them as you can."
   ]
  },
  {
   "cell_type": "markdown",
   "metadata": {
    "#solution": false,
    "#staff": false,
    "#student": true
   },
   "source": [
    "\n",
    "Type your answer here."
   ]
  },
  {
   "cell_type": "markdown",
   "metadata": {
    "#solution": false,
    "#staff": false,
    "#student": false
   },
   "source": [
    "## Part 6: Anna versus Ryan"
   ]
  },
  {
   "cell_type": "markdown",
   "metadata": {
    "#solution": false,
    "#staff": false,
    "#student": false
   },
   "source": [
    "Suppose Anna and Ryan have a total of 365 hash codes, and suppose individuals are coming in one by one to be assigned a code.\n",
    "\n",
    "- Anna starts assigning codes to individuals one at a time at random with replacement, until she assigns a code that she has assigned before. Then she stops.\n",
    "- At that point Ryan takes over the process of assigning codes to individuals, also one at a time at random with replacement, until he assigns a code that either he or Anna has assigned before. Then he stops.\n",
    "\n",
    "Let $X$ be the number of individuals to whom Anna assigns a code, including the individual to whom she assigns a used code.\n",
    "\n",
    "Let $Y$ be the number of individuals to whom Ryan assigns a code, including the individual to whom he assigns a used code."
   ]
  },
  {
   "cell_type": "markdown",
   "metadata": {
    "#solution": false,
    "#staff": false,
    "#student": false
   },
   "source": [
    "### 6a) ###\n",
    "\n",
    "Consider the following three probabilities:\n",
    "\n",
    "- $P(X = Y)$\n",
    "- $P(X > Y)$\n",
    "- $P(X < Y)$\n",
    "\n",
    "Based on your intuition about $X$ and $Y$, without any calculation, rank these probabilities from largest to smallest and explain your ranking. If you think there are ties, you're welcome to include them with an explanation."
   ]
  },
  {
   "cell_type": "markdown",
   "metadata": {
    "#solution": false,
    "#staff": false,
    "#student": true
   },
   "source": [
    "\n",
    "Type your answer here."
   ]
  },
  {
   "cell_type": "markdown",
   "metadata": {
    "#solution": false,
    "#staff": false,
    "#student": false
   },
   "source": [
    "### 6b) ###\n",
    "\n",
    "Now use `jt_M1_M2` appropriately to find each of the three probabilities above.\n",
    "\n",
    "Start by writing $X$ and $Y$ in terms of $M_1$ and $M_2$, and consult the [textbook](http://prob140.org/textbook/content/Chapter_04/01_Joint_Distributions.html#finding-probabilities) for logic and syntax. \n",
    "\n",
    "**You should only display the required probability**, not the event as a portion of the big joint distribution table. \n",
    "\n",
    "Use as many lines as you need."
   ]
  },
  {
   "cell_type": "code",
   "execution_count": null,
   "metadata": {
    "#solution": false,
    "#staff": false,
    "#student": true
   },
   "outputs": [],
   "source": [
    "# P(X = Y)\n",
    "\n",
    "def ...\n",
    "\n",
    "..."
   ]
  },
  {
   "cell_type": "code",
   "execution_count": null,
   "metadata": {
    "#solution": false,
    "#staff": false,
    "#student": true
   },
   "outputs": [],
   "source": [
    "# P(X > Y)\n",
    "\n",
    "def ...\n",
    "\n",
    "..."
   ]
  },
  {
   "cell_type": "code",
   "execution_count": null,
   "metadata": {
    "#solution": false,
    "#staff": false,
    "#student": true
   },
   "outputs": [],
   "source": [
    "# P(X < Y)\n",
    "\n",
    "def ...\n",
    "\n",
    "..."
   ]
  },
  {
   "cell_type": "markdown",
   "metadata": {
    "#solution": false,
    "#staff": false,
    "#student": false
   },
   "source": [
    "**If the numerical answers don't agree with your ranking in Part a, don't go back and change your ranking!** You have only just started learning probability theory, and intuition needs time to develop. "
   ]
  },
  {
   "cell_type": "markdown",
   "metadata": {
    "#solution": false,
    "#staff": false,
    "#student": false
   },
   "source": [
    "## Conclusion ##\n",
    "\n",
    "You now know:\n",
    "- What a birthday attack is, at least in a rough sense\n",
    "- Roughly how many random attempts have to be made for a collision to be more likely than not, as a function of the number of values in the hash table\n",
    "- The joint distribution of the number of attempts needed to get one match and then a second match, and a sense of the relative sizes of the two times\n",
    "- That problems involving artificial settings such as birthdays can have considerably wider practical applications\n",
    "- That exponential approximations can be great as approximations and also as ways to get a quick sense of how a complicated function is behaving\n",
    "\n",
    "### <span style=\"color: #113399\">You have completed your first Data 140 lab. Congratulations!</span> ###"
   ]
  },
  {
   "cell_type": "markdown",
   "metadata": {
    "#solution": false,
    "#staff": false,
    "#student": false
   },
   "source": [
    "## Submission Instructions ##\n",
    "\n",
    "Many assignments throughout the course will have a written portion and a code portion. Please follow the directions below to properly submit both portions.\n",
    "\n",
    "### Written Portion ###\n",
    "\n",
    "- Scan all the pages into a PDF. You can use any scanner or mobile application. There are many free apps available that allow you to convert your work into PDFs from your phone. Please DO NOT simply take pictures using your phone.\n",
    "- Please start a new page for each question. If you have already written multiple questions on the same page, you can crop the image or fold your page over (the old-fashioned way). This helps expedite grading.\n",
    "- It is your responsibility to check that all the work on all the scanned pages is legible.\n",
    "\n",
    "### Code Portion ###\n",
    "\n",
    "- Save your notebook using File > Save and Checkpoint.\n",
    "- Generate a PDF file using File > Download as > PDF via LaTeX. This might take a few seconds and will automatically download a PDF version of this notebook.\n",
    "    - If you have issues, please make a follow-up post on the general Lab 1 Piazza thread.\n",
    "\n",
    "### Submitting ###\n",
    "\n",
    "- Combine the PDFs from the written and code portions into one PDF. [Here](https://smallpdf.com/merge-pdf) is a useful tool for doing so.\n",
    "- Submit the assignment to Lab 1 on Gradescope.\n",
    "- **Make sure to assign each page of your pdf to the correct question.**\n",
    "- It is your responsibility to verify that all of your work shows up in your final PDF submission.\n",
    "- If you have questions about scanning or uploading your work, please post a follow-up to the [Piazza thread](https://piazza.com/class/kjw2ea3wog7fe?cid=24) on this topic."
   ]
  }
 ],
 "metadata": {
  "anaconda-cloud": {},
  "checksums": [
   "9cb7ff7bf9ebf3e3812809ee92a9bb02",
   "24cdee550b8efa80921d162bf3293b8b",
   "9a011c6a00003e88335c70ab74717039",
   "a61c69043ad35226caa251afe6832daa",
   "f5743313ddc60c7ab938919fb6b5ceff",
   "6ec044e2d51c3286aada8768560e54e2",
   "ff8363ca90fb629df71f4579d10795ed",
   "b9fbbfa1033e8c2fa95d41124e260994",
   "bbe191baf414a656f9779abb0a961561",
   "19826cd644194409d767c5c28b446e18",
   "be4d11c96e4e8ad48e49be87b7f41f77",
   "4e24e7986faad6d846fc2804d5b8f8b6",
   "1f78886da88dd94042b3834e31b4edd4",
   "a6266e810ceaa9c786f07a85f3bcdff1",
   "6917b6a12b6818b67cd188c52bb7ef24",
   "7d8d3524a2b28dcb1feef28f491c21cd",
   "f07cbd6f44e9108db3438a5395363cb8",
   "e9112d73a20e6bd60a2f9978984bd118",
   "88c895ad5ee25bc70b05d67d1401a022",
   "c595afd80edfd4d6b30c60cd84103c1a",
   "30ccfb99160a507b45f1acb62027aa52",
   "0c7410068737eeb54abf133b0b86989c",
   "c492f20147888dce2ee6026249894c60",
   "e2f8e7372e945d2ac79790ae9636ca87",
   "985aec0423b79c3d2017ffadd69dae10",
   "a986061e2856e3e1a94b8a0155514158",
   "0276ab01ff07b7983924e7150fdd9fea",
   "6cddadf2b9edc364e3e1a67e4379f712",
   "09ab92639e34a9a2e94893e83263cebb",
   "6917b6a12b6818b67cd188c52bb7ef24",
   "4af4e753f8741313e751f4f1703299b6",
   "cd5de7d14a6ad0a2d71b0b780138dc42",
   "dfad2bfd45f94f2228eaab72154c146a",
   "69be6cc75ab88339987df3904a7a741a",
   "114d55c87fb31943e7731ebf90735a97",
   "7a423d6921d2a5647775ce03c191af30",
   "92804946775534070c4b9d6a1baf1963",
   "3a50102c76834f3fd539c99abb04d4ac",
   "2f43b42fd833d1e77420a8dae7419000",
   "da71d740e635c024ccb99c31a9c51362",
   "2f43b42fd833d1e77420a8dae7419000",
   "5d60cd998d50e4374b5bb8e7925ed21d",
   "890c3b1b6b08539f0287df55a8d06ebb",
   "73d066971cf08cbbb17956b298012179",
   "5530a1fc0442025ed4f7fd5c34648a4e",
   "e0c7c00957265895f6208076c0c30dc0",
   "8ecfda8ca5a9232612935d84e23c0e15",
   "5d322ecb99d290d05974cf53ba4910f0",
   "3a78a89b7a1b9be565b79444964485d0",
   "2f43b42fd833d1e77420a8dae7419000",
   "14f3cb5186c3bbdf56b0132b969a82c5",
   "7561851a18e607fac6e17c60c95e59ce",
   "4cd28f47a90953870bc10724fa4e7669",
   "2472b0901b2d93f6728242d014c08845",
   "dd10aaf0d5b1ac2fce490368528e7637",
   "c5ffb47d8264e79cb25cab5fdab62e7c",
   "8a8b60d7340d5a5e3fc656523302d194",
   "f304fe5261675ad9cc368c1d8b8c4708",
   "1ab31f4430ed9f7acf324e1a528782b6",
   "7a4a654c3dbe1c4791df5fd570d583e9",
   "c5e70f49425cc7e5da09ea96bb6c3e69",
   "e64a6cb0cdbc05033fa671022675d477",
   "0b9074d06c5654d85a8e43a1718f20ac",
   "88cd7d8c420c8dc1b1a5a0c556e872c1",
   "e315d45d91d86a4e8b833eeee1876c64",
   "a65882c6484a260d3a04ec7d7c323e38",
   "0ac97e740feb0e47fe26145b8a1194b0",
   "84881bfb14b1a979e3a0a44defe8c5cb",
   "cc0dc7329279c399b461c880ffe49aa6",
   "283a1fc143b023b68abe24ad93f25c0a",
   "98eebcf9902918f02e18e6ffdc453bf7",
   "256825c6d5fa881c365919f1a4f91f0b",
   "af702e2d4d82564dcc6abc45b25428b8",
   "d295f852871933e1f06b4dcf52b70f34",
   "3a36839a1b09d4f6c4e5fce8fbb23963",
   "40f54d2a3705c311d85afb9c4508faea",
   "8a8b60d7340d5a5e3fc656523302d194",
   "9e2810dfe822a960407dde1c118c357f",
   "85c255bf02c7f86f3ef5ef4f270ba57a",
   "b119e9221e4144776ed6cdf99ce90faf",
   "931765bba0bf1fae2c700b829211e369",
   "6d7013d6cf5fc2bb41cf59f82401fdba",
   "7ae0ed89abbf3413d982095bb5a08402",
   "942e006b2157a02b08f83c72b9f9ed36",
   "817a4273ed6fdc61bc7034771259ca5d",
   "fcbd5ab560fe2edd61cb3a654b2946da",
   "b7b227840a255a68d8e3a851d7f5460c",
   "b61cd46b49e9e55a42a863e17a4fe166",
   "c2af0aac443f41d4f77a8e6ef7726bd5",
   "c5e60c2f00dee849dd2a8d9087e2cc30",
   "3bb6e9dcb7c7c5844177a01dd143042b",
   "c4368378ecab55f9bf331c7be5f5a786",
   "d16d84afee6457ae5d55496b99addce4",
   "c252778222f266b7d1da3a10fc527b79",
   "f2159777164a0fcb8eeb23aba8605850",
   "b70403a5b875791785c58c5e80e20712",
   "be5a55df5340eef2449f27b736dd3738",
   "0dc374c38f0c2e07a39ef1b0035da390",
   "fe61f2a9c25038ccf629892901b1ed4b",
   "7c9dec357fc5e4a86fbbae97ecd54d5e",
   "8a8b60d7340d5a5e3fc656523302d194",
   "3194c09511f1367eb0b1eff7aa2f05da",
   "92f1ce6c6db2598ee95711c4f1ecfe70",
   "1204c42f354de35bfb12686e18fb5549",
   "8a8b60d7340d5a5e3fc656523302d194",
   "4727a578cc6e7c604b8d0b61d227895d",
   "8f1554747eb9cddbd178fc98b75652ba",
   "9811460fba24600b36594437d6a5847c",
   "4e5acb8e8bde18e80932731a19ee0d6f",
   "e3d0255a8cbda38011744ea0091c5c0a",
   "fb0f942a523ad1e9f096e7d0dfcaac05",
   "cb102468a8bfe0084c5ed52c8e32dce0"
  ],
  "kernelspec": {
   "display_name": "Python 3",
   "language": "python",
   "name": "python3"
  },
  "language_info": {
   "codemirror_mode": {
    "name": "ipython",
    "version": 3
   },
   "file_extension": ".py",
   "mimetype": "text/x-python",
   "name": "python",
   "nbconvert_exporter": "python",
   "pygments_lexer": "ipython3",
   "version": "3.7.4"
  },
  "number_of_pagebreaks": 0
 },
 "nbformat": 4,
 "nbformat_minor": 1
}
